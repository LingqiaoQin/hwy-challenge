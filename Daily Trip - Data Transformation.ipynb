{
 "cells": [
  {
   "cell_type": "code",
   "execution_count": 1,
   "metadata": {
    "collapsed": true
   },
   "outputs": [],
   "source": [
    "import pandas as pd\n",
    "import datetime\n",
    "from ast import literal_eval\n",
    "import matplotlib.pyplot as plt\n",
    "%matplotlib inline"
   ]
  },
  {
   "cell_type": "code",
   "execution_count": 89,
   "metadata": {
    "collapsed": false
   },
   "outputs": [],
   "source": [
    "# load google bicycle data\n",
    "df_google_bicycle = pd.read_csv('datasets/google_route_bicycle.csv')\n",
    "df_google_bicycle = df_google_bicycle.drop_duplicates(subset = ['start station id', 'end station id'])\n",
    "df_google_bicycle['bicycling_duration_total'] = df_google_bicycle['bicycling_duration'].apply(lambda x: sum(literal_eval(x)))"
   ]
  },
  {
   "cell_type": "code",
   "execution_count": 8,
   "metadata": {
    "collapsed": true
   },
   "outputs": [],
   "source": [
    "# load uber data\n",
    "df_uber = pd.read_csv('datasets/uber_cost_distance.csv')\n",
    "df_uber = df_uber.drop_duplicates(subset = ['start station id', 'end station id'])"
   ]
  },
  {
   "cell_type": "code",
   "execution_count": 2,
   "metadata": {
    "collapsed": false
   },
   "outputs": [
    {
     "name": "stdout",
     "output_type": "stream",
     "text": [
      "(1236199, 15)\n",
      "Index([u'tripduration', u'starttime', u'stoptime', u'start station id',\n",
      "       u'start station name', u'start station latitude',\n",
      "       u'start station longitude', u'end station id', u'end station name',\n",
      "       u'end station latitude', u'end station longitude', u'bikeid',\n",
      "       u'usertype', u'birth year', u'gender'],\n",
      "      dtype='object')\n"
     ]
    }
   ],
   "source": [
    "# merge dataframes from all years\n",
    "df = pd.DataFrame({})\n",
    "for i in range(1,13):\n",
    "    if i < 10:\n",
    "        df = df.append(pd.read_csv('datasets/20160{0}-hubway-tripdata.csv'.format(i)))\n",
    "    else:\n",
    "        df = df.append(pd.read_csv('datasets/2016{0}-hubway-tripdata.csv'.format(i)))\n",
    "print(df.shape)\n",
    "print(df.columns)"
   ]
  },
  {
   "cell_type": "code",
   "execution_count": 3,
   "metadata": {
    "collapsed": false
   },
   "outputs": [
    {
     "data": {
      "text/plain": [
       "(1236197, 15)"
      ]
     },
     "execution_count": 3,
     "metadata": {},
     "output_type": "execute_result"
    }
   ],
   "source": [
    "# filter out records where lat/lngs are 0\n",
    "df = df[df['start station latitude'] > 0]\n",
    "df = df[df['end station latitude'] > 0]\n",
    "df = df[df['start station longitude'] < 0]\n",
    "df = df[df['end station longitude'] < 0]\n",
    "df.shape"
   ]
  },
  {
   "cell_type": "code",
   "execution_count": 4,
   "metadata": {
    "collapsed": false
   },
   "outputs": [
    {
     "data": {
      "text/plain": [
       "(1197559, 15)"
      ]
     },
     "execution_count": 4,
     "metadata": {},
     "output_type": "execute_result"
    }
   ],
   "source": [
    "# filter out records where start and end stations are the same\n",
    "df = df[df['start station name'] != df['end station name']]\n",
    "df.shape"
   ]
  },
  {
   "cell_type": "code",
   "execution_count": 5,
   "metadata": {
    "collapsed": false
   },
   "outputs": [],
   "source": [
    "# create day of year and day of week marker marker\n",
    "df['starttime'] = pd.to_datetime(df['starttime'])\n",
    "df['dayofyear'] = df['starttime'].dt.date\n",
    "df['time'] = df['starttime'].dt.time\n",
    "df['dayofweek'] = df['starttime'].apply(lambda date: date.dayofweek)"
   ]
  },
  {
   "cell_type": "code",
   "execution_count": 6,
   "metadata": {
    "collapsed": false
   },
   "outputs": [
    {
     "data": {
      "text/plain": [
       "2016-08-09    6751\n",
       "2016-09-13    6694\n",
       "2016-07-19    6658\n",
       "2016-09-15    6644\n",
       "2016-07-20    6634\n",
       "2016-09-21    6541\n",
       "2016-06-23    6524\n",
       "2016-09-22    6524\n",
       "2016-08-03    6513\n",
       "2016-07-12    6426\n",
       "2016-09-16    6402\n",
       "2016-08-30    6398\n",
       "2016-06-22    6332\n",
       "2016-08-04    6329\n",
       "2016-07-21    6295\n",
       "2016-09-14    6275\n",
       "2016-09-12    6274\n",
       "2016-08-08    6253\n",
       "2016-07-28    6242\n",
       "2016-07-27    6239\n",
       "2016-06-16    6213\n",
       "2016-06-21    6206\n",
       "2016-06-24    6185\n",
       "2016-09-20    6161\n",
       "2016-08-05    6156\n",
       "2016-10-19    6140\n",
       "2016-09-08    6116\n",
       "2016-07-11    6116\n",
       "2016-07-07    6096\n",
       "2016-08-31    6094\n",
       "              ... \n",
       "2016-02-12     414\n",
       "2016-01-20     413\n",
       "2016-01-21     403\n",
       "2016-01-31     400\n",
       "2016-02-16     377\n",
       "2016-02-24     376\n",
       "2016-02-09     371\n",
       "2016-12-25     341\n",
       "2016-01-09     315\n",
       "2016-01-05     314\n",
       "2016-02-07     303\n",
       "2016-01-19     290\n",
       "2016-01-04     274\n",
       "2016-01-17     261\n",
       "2016-12-24     258\n",
       "2016-02-06     254\n",
       "2016-01-16     246\n",
       "2016-01-01     232\n",
       "2016-01-03     230\n",
       "2016-12-17     229\n",
       "2016-01-02     213\n",
       "2016-01-18     197\n",
       "2016-02-15     196\n",
       "2016-01-24     186\n",
       "2016-02-13     168\n",
       "2016-01-23     155\n",
       "2016-02-05     131\n",
       "2016-02-08     116\n",
       "2016-01-10     115\n",
       "2016-02-14      92\n",
       "Name: dayofyear, dtype: int64"
      ]
     },
     "execution_count": 6,
     "metadata": {},
     "output_type": "execute_result"
    }
   ],
   "source": [
    "# find busiest day of year\n",
    "df['dayofyear'].value_counts()"
   ]
  },
  {
   "cell_type": "markdown",
   "metadata": {},
   "source": [
    "# Create DF for Brian"
   ]
  },
  {
   "cell_type": "code",
   "execution_count": 38,
   "metadata": {
    "collapsed": false
   },
   "outputs": [],
   "source": [
    "df['route_id'] = df['start station id'].astype(str) + '-' + df['end station id'].astype(str)"
   ]
  },
  {
   "cell_type": "code",
   "execution_count": 93,
   "metadata": {
    "collapsed": false
   },
   "outputs": [],
   "source": [
    "routes_df = df['tripduration'].groupby(df['route_id']).agg(['count','mean'])\n",
    "routes_df = routes_df.reset_index()\n",
    "routes_df.rename(columns = {'mean':'avg_duration_actual'}, inplace = True)\n",
    "df_temp = df.drop_duplicates(subset = ['route_id'])[['start station id','start station name',\n",
    "                                                     'end station name','start station latitude', 'start station longitude',\n",
    "                                                    'end station id','end station latitude','end station longitude',\n",
    "                                                    'route_id']]\n",
    "routes_df = routes_df.merge(df_temp, how = 'left', on = ['route_id'])\n",
    "routes_df = routes_df.merge(df_uber[['start station id','end station id','uber_x_duration','uber_x_high_estimate']], how = 'left', on = ['start station id', 'end station id'])\n",
    "routes_df = routes_df.merge(df_google_bicycle[['start station id','end station id','bicycling_duration_total']], how = 'left', on = ['start station id', 'end station id'])\n",
    "routes_df.to_csv('routes_information.csv', index = False)"
   ]
  },
  {
   "cell_type": "markdown",
   "metadata": {},
   "source": [
    "# Ihsaan Work"
   ]
  },
  {
   "cell_type": "code",
   "execution_count": 7,
   "metadata": {
    "collapsed": false
   },
   "outputs": [
    {
     "data": {
      "text/plain": [
       "(6751, 18)"
      ]
     },
     "execution_count": 7,
     "metadata": {},
     "output_type": "execute_result"
    }
   ],
   "source": [
    "# filter data frame for busiest day of year\n",
    "busiest_day = df[df['dayofyear'] == datetime.date(2016,8,9)]\n",
    "busiest_day.shape"
   ]
  },
  {
   "cell_type": "code",
   "execution_count": 9,
   "metadata": {
    "collapsed": false
   },
   "outputs": [
    {
     "name": "stdout",
     "output_type": "stream",
     "text": [
      "(22377, 16)\n",
      "Index([u'routes_id', u'start station latitude', u'start station longitude',\n",
      "       u'end station latitude', u'end station longitude',\n",
      "       u'routes_status_code', u'uber_pool_distance', u'uber_pool_duration',\n",
      "       u'uber_pool_high_estimate', u'uber_pool_low_estimate',\n",
      "       u'uber_x_distance', u'uber_x_duration', u'uber_x_high_estimate',\n",
      "       u'uber_x_low_estimate', u'start station id', u'end station id'],\n",
      "      dtype='object')\n"
     ]
    }
   ],
   "source": [
    "# print uber data summary\n",
    "print(df_uber.shape)\n",
    "print(df_uber.columns)"
   ]
  },
  {
   "cell_type": "code",
   "execution_count": 11,
   "metadata": {
    "collapsed": false
   },
   "outputs": [
    {
     "name": "stdout",
     "output_type": "stream",
     "text": [
      "(22375, 11)\n",
      "Index([u'routes_id', u'start station latitude_x', u'start station longitude_x',\n",
      "       u'end station latitude_x', u'end station longitude_x',\n",
      "       u'routes_status_code', u'bicycling_polylines', u'bicycling_duration',\n",
      "       u'route', u'start station id', u'end station id'],\n",
      "      dtype='object')\n"
     ]
    }
   ],
   "source": [
    "# print google bicycle data summary\n",
    "print(df_google_bicycle.shape)\n",
    "print(df_google_bicycle.columns)"
   ]
  },
  {
   "cell_type": "code",
   "execution_count": 12,
   "metadata": {
    "collapsed": false
   },
   "outputs": [],
   "source": [
    "# merge busiest day dataframe with google and uber data\n",
    "busiest_day_merged = busiest_day.merge(df_uber, how = 'left', on = ['start station id', 'end station id'])\n",
    "busiest_day_merged = busiest_day_merged.merge(df_google_bicycle, how = 'left', on = ['end station id', 'start station id'])"
   ]
  },
  {
   "cell_type": "code",
   "execution_count": 13,
   "metadata": {
    "collapsed": false
   },
   "outputs": [
    {
     "name": "stdout",
     "output_type": "stream",
     "text": [
      "(6751, 41)\n",
      "Index([u'tripduration', u'starttime', u'stoptime', u'start station id',\n",
      "       u'start station name', u'start station latitude_x_x',\n",
      "       u'start station longitude_x_x', u'end station id', u'end station name',\n",
      "       u'end station latitude_x_x', u'end station longitude_x_x', u'bikeid',\n",
      "       u'usertype', u'birth year', u'gender', u'dayofyear', u'time',\n",
      "       u'dayofweek', u'routes_id_x', u'start station latitude_y',\n",
      "       u'start station longitude_y', u'end station latitude_y',\n",
      "       u'end station longitude_y', u'routes_status_code_x',\n",
      "       u'uber_pool_distance', u'uber_pool_duration',\n",
      "       u'uber_pool_high_estimate', u'uber_pool_low_estimate',\n",
      "       u'uber_x_distance', u'uber_x_duration', u'uber_x_high_estimate',\n",
      "       u'uber_x_low_estimate', u'routes_id_y', u'start station latitude_x_y',\n",
      "       u'start station longitude_x_y', u'end station latitude_x_y',\n",
      "       u'end station longitude_x_y', u'routes_status_code_y',\n",
      "       u'bicycling_polylines', u'bicycling_duration', u'route'],\n",
      "      dtype='object')\n"
     ]
    }
   ],
   "source": [
    "# print summary of busiest day merged dataframe\n",
    "print(busiest_day_merged.shape)\n",
    "print(busiest_day_merged.columns)"
   ]
  },
  {
   "cell_type": "code",
   "execution_count": 26,
   "metadata": {
    "collapsed": false
   },
   "outputs": [],
   "source": [
    "busiest_day_merged['duration_delta'] = busiest_day_merged['bicycling_duration_total'] - busiest_day_merged['uber_x_duration']"
   ]
  },
  {
   "cell_type": "code",
   "execution_count": 15,
   "metadata": {
    "collapsed": false
   },
   "outputs": [],
   "source": [
    "# keep only relevant columns\n",
    "busiest_day_merged['trip_id'] = busiest_day_merged.index \n",
    "columns_to_keep = ['trip_id', 'bicycling_duration', 'starttime', 'route', 'uber_x_high_estimate', 'duration_delta']\n",
    "df_busiest_day = busiest_day_merged[columns_to_keep]"
   ]
  },
  {
   "cell_type": "code",
   "execution_count": 16,
   "metadata": {
    "collapsed": false
   },
   "outputs": [
    {
     "data": {
      "text/plain": [
       "trip_id                 0\n",
       "bicycling_duration      0\n",
       "starttime               0\n",
       "route                   0\n",
       "uber_x_high_estimate    0\n",
       "duration_delta          0\n",
       "dtype: int64"
      ]
     },
     "execution_count": 16,
     "metadata": {},
     "output_type": "execute_result"
    }
   ],
   "source": [
    "# check nulls\n",
    "df_busiest_day.isnull().sum()"
   ]
  },
  {
   "cell_type": "code",
   "execution_count": 17,
   "metadata": {
    "collapsed": true
   },
   "outputs": [],
   "source": [
    "def get_data(row):\n",
    "    mini_df = []\n",
    "    trip_id = row['trip_id']\n",
    "    time = row['starttime']\n",
    "    uber_cost = row['uber_x_high_estimate']\n",
    "    uber_duration_delta = row['duration_delta']\n",
    "    route = literal_eval(row['route'])\n",
    "    duration = literal_eval(row['bicycling_duration'])\n",
    "    uber_cost = uber_cost * 1.0 / len(route)\n",
    "    uber_duration_delta = uber_duration_delta * 1.0 / len(route)\n",
    "    for i, segment in enumerate(route):\n",
    "        time_increment = duration[i] * 1.0 / len(segment)\n",
    "        for coordinate in segment:\n",
    "            mini_df.append({'trip': trip_id, 'timestamp' : time, 'uber duration delta' : uber_duration_delta / len(segment), \n",
    "                            'uber cost' : uber_cost / len(segment), 'lat' : coordinate[0], 'lng' : coordinate[1]})\n",
    "            time = time + pd.Timedelta(seconds=time_increment)\n",
    "    return pd.DataFrame(mini_df)"
   ]
  },
  {
   "cell_type": "code",
   "execution_count": 18,
   "metadata": {
    "collapsed": false
   },
   "outputs": [],
   "source": [
    "df_busiest_day_all = pd.DataFrame({})\n",
    "for index, row in df_busiest_day.iterrows():\n",
    "    df_busiest_day_all = df_busiest_day_all.append(get_data(row))"
   ]
  },
  {
   "cell_type": "code",
   "execution_count": 19,
   "metadata": {
    "collapsed": false
   },
   "outputs": [
    {
     "name": "stdout",
     "output_type": "stream",
     "text": [
      "(1104883, 6)\n",
      "Index([u'lat', u'lng', u'timestamp', u'trip', u'uber cost',\n",
      "       u'uber duration delta'],\n",
      "      dtype='object')\n"
     ]
    }
   ],
   "source": [
    "print(df_busiest_day_all.shape)\n",
    "print(df_busiest_day_all.columns)"
   ]
  },
  {
   "cell_type": "code",
   "execution_count": 20,
   "metadata": {
    "collapsed": true
   },
   "outputs": [],
   "source": [
    "df_busiest_day_all['hour'] = df_busiest_day_all['timestamp'].dt.hour\n",
    "df_busiest_day_all['minute'] = df_busiest_day_all['timestamp'].dt.minute\n",
    "df_busiest_day_all['minute_in_day'] = df_busiest_day_all['hour']*60 + df_busiest_day_all['minute']\n",
    "df_busiest_day_all = df_busiest_day_all[['lat', 'lng', 'timestamp', 'trip', 'uber cost','uber duration delta', 'minute_in_day']]"
   ]
  },
  {
   "cell_type": "code",
   "execution_count": 21,
   "metadata": {
    "collapsed": false
   },
   "outputs": [
    {
     "data": {
      "text/html": [
       "<div>\n",
       "<table border=\"1\" class=\"dataframe\">\n",
       "  <thead>\n",
       "    <tr style=\"text-align: right;\">\n",
       "      <th></th>\n",
       "      <th>lat</th>\n",
       "      <th>lng</th>\n",
       "      <th>timestamp</th>\n",
       "      <th>trip</th>\n",
       "      <th>uber cost</th>\n",
       "      <th>uber duration delta</th>\n",
       "      <th>minute_in_day</th>\n",
       "    </tr>\n",
       "  </thead>\n",
       "  <tbody>\n",
       "    <tr>\n",
       "      <th>0</th>\n",
       "      <td>42.39703</td>\n",
       "      <td>-71.12295</td>\n",
       "      <td>2016-08-09 00:00:22.000000</td>\n",
       "      <td>0</td>\n",
       "      <td>0.523810</td>\n",
       "      <td>8.047619</td>\n",
       "      <td>0</td>\n",
       "    </tr>\n",
       "    <tr>\n",
       "      <th>1</th>\n",
       "      <td>42.39685</td>\n",
       "      <td>-71.12232</td>\n",
       "      <td>2016-08-09 00:00:26.333333</td>\n",
       "      <td>0</td>\n",
       "      <td>0.523810</td>\n",
       "      <td>8.047619</td>\n",
       "      <td>0</td>\n",
       "    </tr>\n",
       "    <tr>\n",
       "      <th>2</th>\n",
       "      <td>42.39677</td>\n",
       "      <td>-71.12211</td>\n",
       "      <td>2016-08-09 00:00:30.666666</td>\n",
       "      <td>0</td>\n",
       "      <td>0.523810</td>\n",
       "      <td>8.047619</td>\n",
       "      <td>0</td>\n",
       "    </tr>\n",
       "    <tr>\n",
       "      <th>3</th>\n",
       "      <td>42.39677</td>\n",
       "      <td>-71.12211</td>\n",
       "      <td>2016-08-09 00:00:34.999999</td>\n",
       "      <td>0</td>\n",
       "      <td>0.785714</td>\n",
       "      <td>12.071429</td>\n",
       "      <td>0</td>\n",
       "    </tr>\n",
       "    <tr>\n",
       "      <th>4</th>\n",
       "      <td>42.39669</td>\n",
       "      <td>-71.12216</td>\n",
       "      <td>2016-08-09 00:00:48.999999</td>\n",
       "      <td>0</td>\n",
       "      <td>0.785714</td>\n",
       "      <td>12.071429</td>\n",
       "      <td>0</td>\n",
       "    </tr>\n",
       "  </tbody>\n",
       "</table>\n",
       "</div>"
      ],
      "text/plain": [
       "        lat       lng                  timestamp  trip  uber cost  \\\n",
       "0  42.39703 -71.12295 2016-08-09 00:00:22.000000     0   0.523810   \n",
       "1  42.39685 -71.12232 2016-08-09 00:00:26.333333     0   0.523810   \n",
       "2  42.39677 -71.12211 2016-08-09 00:00:30.666666     0   0.523810   \n",
       "3  42.39677 -71.12211 2016-08-09 00:00:34.999999     0   0.785714   \n",
       "4  42.39669 -71.12216 2016-08-09 00:00:48.999999     0   0.785714   \n",
       "\n",
       "   uber duration delta  minute_in_day  \n",
       "0             8.047619              0  \n",
       "1             8.047619              0  \n",
       "2             8.047619              0  \n",
       "3            12.071429              0  \n",
       "4            12.071429              0  "
      ]
     },
     "execution_count": 21,
     "metadata": {},
     "output_type": "execute_result"
    }
   ],
   "source": [
    "df_busiest_day_all.head()"
   ]
  },
  {
   "cell_type": "code",
   "execution_count": 22,
   "metadata": {
    "collapsed": false
   },
   "outputs": [],
   "source": [
    "# write to csv\n",
    "df_busiest_day_all.to_csv('datasets/hubway-trips-20160809.csv', index = False)"
   ]
  }
 ],
 "metadata": {
  "anaconda-cloud": {},
  "kernelspec": {
   "display_name": "Python [Root]",
   "language": "python",
   "name": "Python [Root]"
  },
  "language_info": {
   "codemirror_mode": {
    "name": "ipython",
    "version": 2
   },
   "file_extension": ".py",
   "mimetype": "text/x-python",
   "name": "python",
   "nbconvert_exporter": "python",
   "pygments_lexer": "ipython2",
   "version": "2.7.13"
  }
 },
 "nbformat": 4,
 "nbformat_minor": 0
}
