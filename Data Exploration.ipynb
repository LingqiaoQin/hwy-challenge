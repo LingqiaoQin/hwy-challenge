{
 "cells": [
  {
   "cell_type": "code",
   "execution_count": 43,
   "metadata": {
    "collapsed": true
   },
   "outputs": [],
   "source": [
    "import pandas as pd\n",
    "import requests\n",
    "import time\n",
    "import json"
   ]
  },
  {
   "cell_type": "code",
   "execution_count": 3,
   "metadata": {
    "collapsed": true
   },
   "outputs": [],
   "source": [
    "df = pd.read_csv('201612-hubway-tripdata.csv')"
   ]
  },
  {
   "cell_type": "code",
   "execution_count": 4,
   "metadata": {
    "collapsed": false
   },
   "outputs": [
    {
     "data": {
      "text/html": [
       "<div>\n",
       "<table border=\"1\" class=\"dataframe\">\n",
       "  <thead>\n",
       "    <tr style=\"text-align: right;\">\n",
       "      <th></th>\n",
       "      <th>tripduration</th>\n",
       "      <th>starttime</th>\n",
       "      <th>stoptime</th>\n",
       "      <th>start station id</th>\n",
       "      <th>start station name</th>\n",
       "      <th>start station latitude</th>\n",
       "      <th>start station longitude</th>\n",
       "      <th>end station id</th>\n",
       "      <th>end station name</th>\n",
       "      <th>end station latitude</th>\n",
       "      <th>end station longitude</th>\n",
       "      <th>bikeid</th>\n",
       "      <th>usertype</th>\n",
       "      <th>birth year</th>\n",
       "      <th>gender</th>\n",
       "    </tr>\n",
       "  </thead>\n",
       "  <tbody>\n",
       "    <tr>\n",
       "      <th>0</th>\n",
       "      <td>932</td>\n",
       "      <td>2016-12-01 00:13:14</td>\n",
       "      <td>2016-12-01 00:28:46</td>\n",
       "      <td>218</td>\n",
       "      <td>Watermark Seaport</td>\n",
       "      <td>42.351543</td>\n",
       "      <td>-71.045730</td>\n",
       "      <td>58</td>\n",
       "      <td>The Esplanade - Beacon St. at Arlington St.</td>\n",
       "      <td>42.355596</td>\n",
       "      <td>-71.072780</td>\n",
       "      <td>1085</td>\n",
       "      <td>Subscriber</td>\n",
       "      <td>1994</td>\n",
       "      <td>1</td>\n",
       "    </tr>\n",
       "    <tr>\n",
       "      <th>1</th>\n",
       "      <td>1486</td>\n",
       "      <td>2016-12-01 00:23:46</td>\n",
       "      <td>2016-12-01 00:48:33</td>\n",
       "      <td>33</td>\n",
       "      <td>Kenmore Sq / Comm Ave</td>\n",
       "      <td>42.348706</td>\n",
       "      <td>-71.097009</td>\n",
       "      <td>102</td>\n",
       "      <td>Powder House Circle - Nathan Tufts Park</td>\n",
       "      <td>42.400877</td>\n",
       "      <td>-71.116772</td>\n",
       "      <td>650</td>\n",
       "      <td>Subscriber</td>\n",
       "      <td>1991</td>\n",
       "      <td>1</td>\n",
       "    </tr>\n",
       "    <tr>\n",
       "      <th>2</th>\n",
       "      <td>2360</td>\n",
       "      <td>2016-12-01 00:32:41</td>\n",
       "      <td>2016-12-01 01:12:02</td>\n",
       "      <td>58</td>\n",
       "      <td>The Esplanade - Beacon St. at Arlington St.</td>\n",
       "      <td>42.355596</td>\n",
       "      <td>-71.072780</td>\n",
       "      <td>58</td>\n",
       "      <td>The Esplanade - Beacon St. at Arlington St.</td>\n",
       "      <td>42.355596</td>\n",
       "      <td>-71.072780</td>\n",
       "      <td>1085</td>\n",
       "      <td>Subscriber</td>\n",
       "      <td>1994</td>\n",
       "      <td>1</td>\n",
       "    </tr>\n",
       "    <tr>\n",
       "      <th>3</th>\n",
       "      <td>276</td>\n",
       "      <td>2016-12-01 00:37:55</td>\n",
       "      <td>2016-12-01 00:42:32</td>\n",
       "      <td>80</td>\n",
       "      <td>MIT Stata Center at Vassar St / Main St</td>\n",
       "      <td>42.361962</td>\n",
       "      <td>-71.092053</td>\n",
       "      <td>178</td>\n",
       "      <td>MIT Pacific St at Purrington St</td>\n",
       "      <td>42.359573</td>\n",
       "      <td>-71.101295</td>\n",
       "      <td>1236</td>\n",
       "      <td>Subscriber</td>\n",
       "      <td>1987</td>\n",
       "      <td>2</td>\n",
       "    </tr>\n",
       "    <tr>\n",
       "      <th>4</th>\n",
       "      <td>716</td>\n",
       "      <td>2016-12-01 00:41:10</td>\n",
       "      <td>2016-12-01 00:53:07</td>\n",
       "      <td>7</td>\n",
       "      <td>Fan Pier</td>\n",
       "      <td>42.353287</td>\n",
       "      <td>-71.044389</td>\n",
       "      <td>25</td>\n",
       "      <td>Tremont St / W Newton St</td>\n",
       "      <td>42.341332</td>\n",
       "      <td>-71.076847</td>\n",
       "      <td>1917</td>\n",
       "      <td>Subscriber</td>\n",
       "      <td>1991</td>\n",
       "      <td>1</td>\n",
       "    </tr>\n",
       "  </tbody>\n",
       "</table>\n",
       "</div>"
      ],
      "text/plain": [
       "   tripduration            starttime             stoptime  start station id  \\\n",
       "0           932  2016-12-01 00:13:14  2016-12-01 00:28:46               218   \n",
       "1          1486  2016-12-01 00:23:46  2016-12-01 00:48:33                33   \n",
       "2          2360  2016-12-01 00:32:41  2016-12-01 01:12:02                58   \n",
       "3           276  2016-12-01 00:37:55  2016-12-01 00:42:32                80   \n",
       "4           716  2016-12-01 00:41:10  2016-12-01 00:53:07                 7   \n",
       "\n",
       "                            start station name  start station latitude  \\\n",
       "0                            Watermark Seaport               42.351543   \n",
       "1                        Kenmore Sq / Comm Ave               42.348706   \n",
       "2  The Esplanade - Beacon St. at Arlington St.               42.355596   \n",
       "3      MIT Stata Center at Vassar St / Main St               42.361962   \n",
       "4                                     Fan Pier               42.353287   \n",
       "\n",
       "   start station longitude  end station id  \\\n",
       "0               -71.045730              58   \n",
       "1               -71.097009             102   \n",
       "2               -71.072780              58   \n",
       "3               -71.092053             178   \n",
       "4               -71.044389              25   \n",
       "\n",
       "                              end station name  end station latitude  \\\n",
       "0  The Esplanade - Beacon St. at Arlington St.             42.355596   \n",
       "1      Powder House Circle - Nathan Tufts Park             42.400877   \n",
       "2  The Esplanade - Beacon St. at Arlington St.             42.355596   \n",
       "3              MIT Pacific St at Purrington St             42.359573   \n",
       "4                     Tremont St / W Newton St             42.341332   \n",
       "\n",
       "   end station longitude  bikeid    usertype birth year  gender  \n",
       "0             -71.072780    1085  Subscriber       1994       1  \n",
       "1             -71.116772     650  Subscriber       1991       1  \n",
       "2             -71.072780    1085  Subscriber       1994       1  \n",
       "3             -71.101295    1236  Subscriber       1987       2  \n",
       "4             -71.076847    1917  Subscriber       1991       1  "
      ]
     },
     "execution_count": 4,
     "metadata": {},
     "output_type": "execute_result"
    }
   ],
   "source": [
    "df.head()"
   ]
  },
  {
   "cell_type": "code",
   "execution_count": 17,
   "metadata": {
    "collapsed": true
   },
   "outputs": [],
   "source": [
    "def get_response(start_lat, start_lng, end_lat, end_lng):\n",
    "    url = 'https://api.uber.com/v1.2/estimates/price?start_latitude={0}&start_longitude={1}&end_latitude={2}&end_longitude={3}'.format(start_lat, start_lng, end_lat, end_lng)\n",
    "    api_token ='Rmah_eOq6rBjc-UjQZtszGJX3JAaqhf620WaHYgM'\n",
    "    authorization_token = 'Token ' + api_token\n",
    "    response = requests.get(url, headers={'Authorization': authorization_token, 'Accept-Language':'en_US','Content-Type':'application/json'})\n",
    "    return response"
   ]
  },
  {
   "cell_type": "code",
   "execution_count": 42,
   "metadata": {
    "collapsed": false
   },
   "outputs": [
    {
     "name": "stdout",
     "output_type": "stream",
     "text": [
      "waiting\n",
      "ok\n"
     ]
    }
   ],
   "source": [
    "start_time = time.time()\n",
    "start_lat = df.iloc[0]['start station latitude']\n",
    "start_lng = df.iloc[0]['start station longitude']\n",
    "end_lat = df.iloc[0]['end station latitude']\n",
    "end_lng = df.iloc[0]['end station longitude']\n",
    "x = get_response(start_lat, start_lng, end_lat, end_lng)\n",
    "status_code = x.status_code\n",
    "if status_code == 200:\n",
    "    y = json.loads(x.text)\n",
    "    uber_pool = y['prices'][0]\n",
    "    uber_x = y['prices'][1]\n",
    "    z = [status_code, uber_pool['distance'], uber_pool['duration'], uber_pool['high_estimate'], uber_pool['low_estimate'],\n",
    "    uber_x['distance'], uber_x['duration'], uber_x['high_estimate'], uber_x['low_estimate']]\n",
    "else:\n",
    "    z = [status_code, None, None, None, None, None, None, None, None]\n",
    "end_time = time.time()\n",
    "time.sleep(min(2.5 - (end_time - start_time), 0))"
   ]
  }
 ],
 "metadata": {
  "anaconda-cloud": {},
  "kernelspec": {
   "display_name": "Python [conda root]",
   "language": "python",
   "name": "conda-root-py"
  },
  "language_info": {
   "codemirror_mode": {
    "name": "ipython",
    "version": 2
   },
   "file_extension": ".py",
   "mimetype": "text/x-python",
   "name": "python",
   "nbconvert_exporter": "python",
   "pygments_lexer": "ipython2",
   "version": "2.7.12"
  }
 },
 "nbformat": 4,
 "nbformat_minor": 1
}
